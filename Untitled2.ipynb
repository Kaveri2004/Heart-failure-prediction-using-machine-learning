{
 "cells": [
  {
   "cell_type": "code",
   "execution_count": 1,
   "id": "e9843584",
   "metadata": {},
   "outputs": [
    {
     "name": "stdout",
     "output_type": "stream",
     "text": [
      "Heart Disease Prediction Application\n",
      "Age of person: 30\n",
      "Sex (0: female, 1: male): 0\n",
      "Chest pain type(0:typical angina, 1:non-typical angina,2:non-anginal pain, 3:asymptotic): 1\n",
      "Resting BP: 120\n",
      "Serum Cholesterol (mg/dl): 120\n",
      "Fasting blood sugar > 120 mg/dl(0:no, 1:yes): 1\n",
      "Resting electrocardiographic results (0:Normal, 1: having ST-T Wave abnormality, 2: left venticular hyperthropy): 2\n",
      "Maximum heart rate achieved: 130\n",
      "Exercise induced angina(0:no, 1:yes): 0\n",
      "Oldpeak: 20\n",
      "Slope of the peak exercise ST segment(0:upsloping, 1:flat, 2:downsloping): 1\n",
      "Number of major vessels (0-3): 2\n",
      "Chest pain type(0:normal, 1:fixed defect, 2:reversible defect): 2\n",
      "The prediction is:  [0]\n",
      "The person has not Heart Diseases\n"
     ]
    },
    {
     "name": "stderr",
     "output_type": "stream",
     "text": [
      "C:\\Users\\kaveri gorla\\anaconda3\\Lib\\site-packages\\sklearn\\base.py:464: UserWarning: X does not have valid feature names, but RandomForestClassifier was fitted with feature names\n",
      "  warnings.warn(\n",
      "C:\\Users\\kaveri gorla\\anaconda3\\Lib\\site-packages\\sklearn\\base.py:464: UserWarning: X does not have valid feature names, but BaggingClassifier was fitted with feature names\n",
      "  warnings.warn(\n",
      "C:\\Users\\kaveri gorla\\anaconda3\\Lib\\site-packages\\sklearn\\base.py:464: UserWarning: X does not have valid feature names, but ExtraTreesClassifier was fitted with feature names\n",
      "  warnings.warn(\n"
     ]
    }
   ],
   "source": [
    "import numpy as np\n",
    "import pickle\n",
    "\n",
    "# loading the saved model\n",
    "loaded_model = pickle.load(open(\"trained_model.pkl\", 'rb'))\n",
    "\n",
    "# creating a function for prediction\n",
    "def heart_disease_prediction(input_data):\n",
    "    # changing data to numpy array\n",
    "    input_data_array = np.asarray(input_data, dtype=np.float64)\n",
    "    # reshape the array as we are predicting for one instance\n",
    "    input_data_reshaped = input_data_array.reshape(1, -1)\n",
    "    result = loaded_model.predict(input_data_reshaped)\n",
    "    print(\"The prediction is: \", result)\n",
    "    if result[0] == 1:\n",
    "        return \"The person has Heart Diseases\"\n",
    "    else:\n",
    "        return \"The person has not Heart Diseases\"\n",
    "\n",
    "def get_user_input():\n",
    "    age = input(\"Age of person: \")\n",
    "    sex = input(\"Sex (0: female, 1: male): \")\n",
    "    cp = input(\"Chest pain type(0:typical angina, 1:non-typical angina,2:non-anginal pain, 3:asymptotic): \")\n",
    "    restbps = input(\"Resting BP: \")\n",
    "    chol = input(\"Serum Cholesterol (mg/dl): \")\n",
    "    fbs = input(\"Fasting blood sugar > 120 mg/dl(0:no, 1:yes): \")\n",
    "    restecg = input(\"Resting electrocardiographic results (0:Normal, 1: having ST-T Wave abnormality, 2: left venticular hyperthropy): \")\n",
    "    thalach = input(\"Maximum heart rate achieved: \")\n",
    "    exang = input(\"Exercise induced angina(0:no, 1:yes): \")\n",
    "    oldpeak = input(\"Oldpeak: \")\n",
    "    slope = input(\"Slope of the peak exercise ST segment(0:upsloping, 1:flat, 2:downsloping): \")\n",
    "    ca = input(\"Number of major vessels (0-3): \")\n",
    "    thal = input(\"Chest pain type(0:normal, 1:fixed defect, 2:reversible defect): \")\n",
    "    return [age, sex, cp, restbps, chol, fbs, restecg, thalach, exang, oldpeak, slope, ca, thal]\n",
    "\n",
    "def main():\n",
    "    print(\"Heart Disease Prediction Application\")\n",
    "\n",
    "    user_input = get_user_input()\n",
    "    prediction = heart_disease_prediction(user_input)\n",
    "    print(prediction)\n",
    "\n",
    "if __name__ == '__main__':\n",
    "    main()\n"
   ]
  },
  {
   "cell_type": "code",
   "execution_count": null,
   "id": "1320ad51",
   "metadata": {},
   "outputs": [],
   "source": []
  },
  {
   "cell_type": "markdown",
   "id": "aa0f357d",
   "metadata": {},
   "source": []
  },
  {
   "cell_type": "code",
   "execution_count": null,
   "id": "817c57ca",
   "metadata": {},
   "outputs": [],
   "source": []
  }
 ],
 "metadata": {
  "kernelspec": {
   "display_name": "Python 3 (ipykernel)",
   "language": "python",
   "name": "python3"
  },
  "language_info": {
   "codemirror_mode": {
    "name": "ipython",
    "version": 3
   },
   "file_extension": ".py",
   "mimetype": "text/x-python",
   "name": "python",
   "nbconvert_exporter": "python",
   "pygments_lexer": "ipython3",
   "version": "3.11.5"
  }
 },
 "nbformat": 4,
 "nbformat_minor": 5
}
